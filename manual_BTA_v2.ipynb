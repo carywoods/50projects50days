{
  "cells": [
    {
      "cell_type": "markdown",
      "metadata": {
        "id": "view-in-github",
        "colab_type": "text"
      },
      "source": [
        "<a href=\"https://colab.research.google.com/github/carywoods/50projects50days/blob/master/manual_BTA_v2.ipynb\" target=\"_parent\"><img src=\"https://colab.research.google.com/assets/colab-badge.svg\" alt=\"Open In Colab\"/></a>"
      ]
    },
    {
      "cell_type": "markdown",
      "metadata": {
        "id": "8ICCO3eCx8w0"
      },
      "source": [
        "linear regression"
      ]
    },
    {
      "cell_type": "code",
      "source": [],
      "metadata": {
        "id": "Sh1w6b3PENYx"
      },
      "execution_count": null,
      "outputs": []
    },
    {
      "cell_type": "code",
      "source": [],
      "metadata": {
        "id": "72HbHz4_ENzR"
      },
      "execution_count": null,
      "outputs": []
    },
    {
      "cell_type": "code",
      "execution_count": null,
      "metadata": {
        "colab": {
          "base_uri": "https://localhost:8080/",
          "height": 825
        },
        "id": "BlZQv_G71doz",
        "outputId": "4a72686c-ffd6-4b6f-e595-29dfe632e9d8"
      },
      "outputs": [
        {
          "output_type": "stream",
          "name": "stdout",
          "text": [
            "Requirement already satisfied: pandas==2.2.2 in /usr/local/lib/python3.10/dist-packages (2.2.2)\n",
            "Collecting yfinance==0.1.63\n",
            "  Using cached yfinance-0.1.63.tar.gz (26 kB)\n",
            "  Preparing metadata (setup.py) ... \u001b[?25l\u001b[?25hdone\n",
            "Collecting numpy==1.21.2\n",
            "  Using cached numpy-1.21.2-cp310-cp310-manylinux_2_17_x86_64.manylinux2014_x86_64.whl.metadata (2.1 kB)\n",
            "Collecting matplotlib==3.4.3\n",
            "  Using cached matplotlib-3.4.3.tar.gz (37.9 MB)\n",
            "  Preparing metadata (setup.py) ... \u001b[?25l\u001b[?25hdone\n",
            "Collecting scikit-learn==0.24.2\n",
            "  Using cached scikit-learn-0.24.2.tar.gz (7.5 MB)\n",
            "  Installing build dependencies ... \u001b[?25l\u001b[?25hdone\n",
            "  Getting requirements to build wheel ... \u001b[?25l\u001b[?25hdone\n",
            "  \u001b[1;31merror\u001b[0m: \u001b[1msubprocess-exited-with-error\u001b[0m\n",
            "  \n",
            "  \u001b[31m×\u001b[0m \u001b[32mPreparing metadata \u001b[0m\u001b[1;32m(\u001b[0m\u001b[32mpyproject.toml\u001b[0m\u001b[1;32m)\u001b[0m did not run successfully.\n",
            "  \u001b[31m│\u001b[0m exit code: \u001b[1;36m1\u001b[0m\n",
            "  \u001b[31m╰─>\u001b[0m See above for output.\n",
            "  \n",
            "  \u001b[1;35mnote\u001b[0m: This error originates from a subprocess, and is likely not a problem with pip.\n",
            "  Preparing metadata (pyproject.toml) ... \u001b[?25l\u001b[?25herror\n",
            "\u001b[1;31merror\u001b[0m: \u001b[1mmetadata-generation-failed\u001b[0m\n",
            "\n",
            "\u001b[31m×\u001b[0m Encountered error while generating package metadata.\n",
            "\u001b[31m╰─>\u001b[0m See above for output.\n",
            "\n",
            "\u001b[1;35mnote\u001b[0m: This is an issue with the package mentioned above, not pip.\n",
            "\u001b[1;36mhint\u001b[0m: See above for details.\n"
          ]
        },
        {
          "output_type": "stream",
          "name": "stderr",
          "text": [
            "\r[*********************100%***********************]  1 of 1 completed\n"
          ]
        },
        {
          "output_type": "error",
          "ename": "ValueError",
          "evalue": "Cannot set a DataFrame with multiple columns to the single column Upper_Control_Limit",
          "traceback": [
            "\u001b[0;31m---------------------------------------------------------------------------\u001b[0m",
            "\u001b[0;31mValueError\u001b[0m                                Traceback (most recent call last)",
            "\u001b[0;32m<ipython-input-2-08715b46aab1>\u001b[0m in \u001b[0;36m<cell line: 85>\u001b[0;34m()\u001b[0m\n\u001b[1;32m     83\u001b[0m \u001b[0;34m\u001b[0m\u001b[0m\n\u001b[1;32m     84\u001b[0m \u001b[0;31m# Example usage\u001b[0m\u001b[0;34m\u001b[0m\u001b[0;34m\u001b[0m\u001b[0m\n\u001b[0;32m---> 85\u001b[0;31m \u001b[0mplot_stock_analysis\u001b[0m\u001b[0;34m(\u001b[0m\u001b[0;34m\"FTXH\"\u001b[0m\u001b[0;34m)\u001b[0m\u001b[0;34m\u001b[0m\u001b[0;34m\u001b[0m\u001b[0m\n\u001b[0m",
            "\u001b[0;32m<ipython-input-2-08715b46aab1>\u001b[0m in \u001b[0;36mplot_stock_analysis\u001b[0;34m(ticker)\u001b[0m\n\u001b[1;32m     20\u001b[0m \u001b[0;34m\u001b[0m\u001b[0m\n\u001b[1;32m     21\u001b[0m     \u001b[0;31m# Calculate the upper and lower control limits (mean +/- 2 standard deviations)\u001b[0m\u001b[0;34m\u001b[0m\u001b[0;34m\u001b[0m\u001b[0m\n\u001b[0;32m---> 22\u001b[0;31m     \u001b[0mdata\u001b[0m\u001b[0;34m[\u001b[0m\u001b[0;34m'Upper_Control_Limit'\u001b[0m\u001b[0;34m]\u001b[0m \u001b[0;34m=\u001b[0m \u001b[0mdata\u001b[0m\u001b[0;34m[\u001b[0m\u001b[0;34m'90_day_MA'\u001b[0m\u001b[0;34m]\u001b[0m \u001b[0;34m+\u001b[0m \u001b[0;36m2\u001b[0m \u001b[0;34m*\u001b[0m \u001b[0mdata\u001b[0m\u001b[0;34m[\u001b[0m\u001b[0;34m'Close'\u001b[0m\u001b[0;34m]\u001b[0m\u001b[0;34m.\u001b[0m\u001b[0mrolling\u001b[0m\u001b[0;34m(\u001b[0m\u001b[0mwindow\u001b[0m\u001b[0;34m=\u001b[0m\u001b[0;36m90\u001b[0m\u001b[0;34m)\u001b[0m\u001b[0;34m.\u001b[0m\u001b[0mstd\u001b[0m\u001b[0;34m(\u001b[0m\u001b[0;34m)\u001b[0m\u001b[0;34m\u001b[0m\u001b[0;34m\u001b[0m\u001b[0m\n\u001b[0m\u001b[1;32m     23\u001b[0m     \u001b[0mdata\u001b[0m\u001b[0;34m[\u001b[0m\u001b[0;34m'Lower_Control_Limit'\u001b[0m\u001b[0;34m]\u001b[0m \u001b[0;34m=\u001b[0m \u001b[0mdata\u001b[0m\u001b[0;34m[\u001b[0m\u001b[0;34m'90_day_MA'\u001b[0m\u001b[0;34m]\u001b[0m \u001b[0;34m-\u001b[0m \u001b[0;36m2\u001b[0m \u001b[0;34m*\u001b[0m \u001b[0mdata\u001b[0m\u001b[0;34m[\u001b[0m\u001b[0;34m'Close'\u001b[0m\u001b[0;34m]\u001b[0m\u001b[0;34m.\u001b[0m\u001b[0mrolling\u001b[0m\u001b[0;34m(\u001b[0m\u001b[0mwindow\u001b[0m\u001b[0;34m=\u001b[0m\u001b[0;36m90\u001b[0m\u001b[0;34m)\u001b[0m\u001b[0;34m.\u001b[0m\u001b[0mstd\u001b[0m\u001b[0;34m(\u001b[0m\u001b[0;34m)\u001b[0m\u001b[0;34m\u001b[0m\u001b[0;34m\u001b[0m\u001b[0m\n\u001b[1;32m     24\u001b[0m \u001b[0;34m\u001b[0m\u001b[0m\n",
            "\u001b[0;32m/usr/local/lib/python3.10/dist-packages/pandas/core/frame.py\u001b[0m in \u001b[0;36m__setitem__\u001b[0;34m(self, key, value)\u001b[0m\n\u001b[1;32m   4299\u001b[0m             \u001b[0mself\u001b[0m\u001b[0;34m.\u001b[0m\u001b[0m_setitem_array\u001b[0m\u001b[0;34m(\u001b[0m\u001b[0mkey\u001b[0m\u001b[0;34m,\u001b[0m \u001b[0mvalue\u001b[0m\u001b[0;34m)\u001b[0m\u001b[0;34m\u001b[0m\u001b[0;34m\u001b[0m\u001b[0m\n\u001b[1;32m   4300\u001b[0m         \u001b[0;32melif\u001b[0m \u001b[0misinstance\u001b[0m\u001b[0;34m(\u001b[0m\u001b[0mvalue\u001b[0m\u001b[0;34m,\u001b[0m \u001b[0mDataFrame\u001b[0m\u001b[0;34m)\u001b[0m\u001b[0;34m:\u001b[0m\u001b[0;34m\u001b[0m\u001b[0;34m\u001b[0m\u001b[0m\n\u001b[0;32m-> 4301\u001b[0;31m             \u001b[0mself\u001b[0m\u001b[0;34m.\u001b[0m\u001b[0m_set_item_frame_value\u001b[0m\u001b[0;34m(\u001b[0m\u001b[0mkey\u001b[0m\u001b[0;34m,\u001b[0m \u001b[0mvalue\u001b[0m\u001b[0;34m)\u001b[0m\u001b[0;34m\u001b[0m\u001b[0;34m\u001b[0m\u001b[0m\n\u001b[0m\u001b[1;32m   4302\u001b[0m         elif (\n\u001b[1;32m   4303\u001b[0m             \u001b[0mis_list_like\u001b[0m\u001b[0;34m(\u001b[0m\u001b[0mvalue\u001b[0m\u001b[0;34m)\u001b[0m\u001b[0;34m\u001b[0m\u001b[0;34m\u001b[0m\u001b[0m\n",
            "\u001b[0;32m/usr/local/lib/python3.10/dist-packages/pandas/core/frame.py\u001b[0m in \u001b[0;36m_set_item_frame_value\u001b[0;34m(self, key, value)\u001b[0m\n\u001b[1;32m   4457\u001b[0m \u001b[0;34m\u001b[0m\u001b[0m\n\u001b[1;32m   4458\u001b[0m         \u001b[0;32mif\u001b[0m \u001b[0mlen\u001b[0m\u001b[0;34m(\u001b[0m\u001b[0mvalue\u001b[0m\u001b[0;34m.\u001b[0m\u001b[0mcolumns\u001b[0m\u001b[0;34m)\u001b[0m \u001b[0;34m>\u001b[0m \u001b[0;36m1\u001b[0m\u001b[0;34m:\u001b[0m\u001b[0;34m\u001b[0m\u001b[0;34m\u001b[0m\u001b[0m\n\u001b[0;32m-> 4459\u001b[0;31m             raise ValueError(\n\u001b[0m\u001b[1;32m   4460\u001b[0m                 \u001b[0;34m\"Cannot set a DataFrame with multiple columns to the single \"\u001b[0m\u001b[0;34m\u001b[0m\u001b[0;34m\u001b[0m\u001b[0m\n\u001b[1;32m   4461\u001b[0m                 \u001b[0;34mf\"column {key}\"\u001b[0m\u001b[0;34m\u001b[0m\u001b[0;34m\u001b[0m\u001b[0m\n",
            "\u001b[0;31mValueError\u001b[0m: Cannot set a DataFrame with multiple columns to the single column Upper_Control_Limit"
          ]
        }
      ],
      "source": [
        "# Install the necessary libraries\n",
        "# !pip install yfinance pandas matplotlib scikit-learn\n",
        "#!pip install pandas==1.3.3 yfinance==0.1.63 numpy==1.21.2 matplotlib==3.4.3 scikit-learn==0.24.2\n",
        "!pip install pandas==2.2.2 yfinance==0.1.63 numpy==1.21.2 matplotlib==3.4.3 scikit-learn==0.24.2\n",
        "import yfinance as yf\n",
        "import pandas as pd\n",
        "import numpy as np\n",
        "import matplotlib.pyplot as plt\n",
        "from sklearn.linear_model import LinearRegression\n",
        "\n",
        "# Function to plot stock data\n",
        "def plot_stock_analysis(ticker):\n",
        "    # Fetch the stock data for the last 18 months\n",
        "    end_date = pd.Timestamp.today()\n",
        "    start_date = end_date - pd.DateOffset(months=18)\n",
        "    data = yf.download(ticker, start=start_date.strftime('%Y-%m-%d'), end=end_date.strftime('%Y-%m-%d'))\n",
        "\n",
        "    # Calculate the 90-day moving average\n",
        "    data['90_day_MA'] = data['Close'].rolling(window=90).mean()\n",
        "\n",
        "    # Calculate the upper and lower control limits (mean +/- 2 standard deviations)\n",
        "    data['Upper_Control_Limit'] = data['90_day_MA'] + 2 * data['Close'].rolling(window=90).std()\n",
        "    data['Lower_Control_Limit'] = data['90_day_MA'] - 2 * data['Close'].rolling(window=90).std()\n",
        "\n",
        "    # Ensure the Date column is the index and in datetime format\n",
        "    data.reset_index(inplace=True)\n",
        "    data['Date'] = pd.to_datetime(data['Date'])\n",
        "\n",
        "    # Linear Regression\n",
        "    X = np.array((data['Date'] - data['Date'].min()).dt.days).reshape(-1, 1)\n",
        "    y = data['Close']\n",
        "    model = LinearRegression()\n",
        "    model.fit(X, y)\n",
        "    data['Trend'] = model.predict(X)\n",
        "\n",
        "    # Determine if the trend line is positive or negative\n",
        "    trend_slope = model.coef_[0]\n",
        "    trend_direction = \"Positive\" if trend_slope > 0 else \"Negative\"\n",
        "\n",
        "    # Identify breaches\n",
        "    data['Signal'] = np.where(data['Close'] < data['Lower_Control_Limit'], 'Breach Lower',\n",
        "                              np.where(data['Close'] > data['Upper_Control_Limit'], 'Breach Upper', 'Within Limits'))\n",
        "\n",
        "    # Determine Buy, Hold, or Sell signals\n",
        "    conditions = [\n",
        "        (data['Close'] < data['Lower_Control_Limit']) & (trend_slope > 0),\n",
        "        (trend_slope > 0) & (data['Close'] < data['Upper_Control_Limit']),\n",
        "        (data['Close'] > data['Upper_Control_Limit']) & (trend_slope > 0)\n",
        "    ]\n",
        "    choices = ['Buy', 'Hold', 'Sell']\n",
        "    data['Action'] = np.select(conditions, choices, default='Hold')\n",
        "\n",
        "    # Determine the action for the latest data point\n",
        "    latest_action = data.iloc[-1]['Action']\n",
        "    latest_date = end_date.strftime('%Y-%m-%d')\n",
        "\n",
        "    # Prepare the action annotation with today's date\n",
        "    action_annotation = f\"{latest_action}: {latest_date}\"\n",
        "\n",
        "    # Plot the data\n",
        "    plt.figure(figsize=(16, 8))\n",
        "    plt.plot(data['Date'], data['Close'], label='Close Price', color='blue')\n",
        "    plt.plot(data['Date'], data['90_day_MA'], label='90-day MA', color='orange')\n",
        "    plt.plot(data['Date'], data['Upper_Control_Limit'], label='Upper Control Limit', color='green')\n",
        "    plt.plot(data['Date'], data['Lower_Control_Limit'], label='Lower Control Limit', color='red')\n",
        "    plt.plot(data['Date'], data['Trend'], label='Trend Line', color='purple')\n",
        "\n",
        "    # Create a combined legend\n",
        "    legend_elements = [\n",
        "        plt.Line2D([0], [0], color='blue', lw=2, label='Close Price'),\n",
        "        plt.Line2D([0], [0], color='orange', lw=2, label='90-day MA'),\n",
        "        plt.Line2D([0], [0], color='green', lw=2, label='Upper Control Limit'),\n",
        "        plt.Line2D([0], [0], color='red', lw=2, label='Lower Control Limit'),\n",
        "        plt.Line2D([0], [0], color='purple', lw=2, label='Trend Line'),\n",
        "        plt.Line2D([0], [0], color='none', lw=0, label=action_annotation)\n",
        "    ]\n",
        "\n",
        "    plt.legend(handles=legend_elements, loc='upper left', bbox_to_anchor=(1, 1))\n",
        "    plt.title(f'Stock Analysis for {ticker} - Trend Line: {trend_direction}')\n",
        "    plt.xlabel('Date')\n",
        "    plt.ylabel('Price')\n",
        "    plt.show()\n",
        "\n",
        "# Example usage\n",
        "plot_stock_analysis(\"FTXH\")\n"
      ]
    }
  ],
  "metadata": {
    "colab": {
      "provenance": [],
      "authorship_tag": "ABX9TyPFLiAhU+a8gJxrqggA+zrg",
      "include_colab_link": true
    },
    "kernelspec": {
      "display_name": "Python 3",
      "name": "python3"
    },
    "language_info": {
      "name": "python"
    }
  },
  "nbformat": 4,
  "nbformat_minor": 0
}